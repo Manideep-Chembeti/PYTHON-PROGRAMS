{
  "nbformat": 4,
  "nbformat_minor": 0,
  "metadata": {
    "colab": {
      "name": "ASSIGNMENT-1.ipynb",
      "provenance": [],
      "collapsed_sections": [],
      "authorship_tag": "ABX9TyMPJ4lHnuOx4n5dNxaZG89R",
      "include_colab_link": true
    },
    "kernelspec": {
      "name": "python3",
      "display_name": "Python 3"
    }
  },
  "cells": [
    {
      "cell_type": "markdown",
      "metadata": {
        "id": "view-in-github",
        "colab_type": "text"
      },
      "source": [
        "<a href=\"https://colab.research.google.com/github/Manideep-Chembeti/PYTHON-PROGRAMS/blob/master/ASSIGNMENT_1.ipynb\" target=\"_parent\"><img src=\"https://colab.research.google.com/assets/colab-badge.svg\" alt=\"Open In Colab\"/></a>"
      ]
    },
    {
      "cell_type": "markdown",
      "metadata": {
        "id": "3pq36W-N6xR5",
        "colab_type": "text"
      },
      "source": [
        "1. Write a python program to print the following string in a specific format (see the output).\n",
        "Sample string :\"Twinkle,twinkle,little star,How i wonder what you are! Up above the world so high like a diomond in the sky .Twinkle,twinkle,little star,how i wonder what you are\""
      ]
    },
    {
      "cell_type": "code",
      "metadata": {
        "id": "Tw9QNq_H7GhT",
        "colab_type": "code",
        "colab": {
          "base_uri": "https://localhost:8080/",
          "height": 119
        },
        "outputId": "91577ed6-fd8b-418b-ff1d-8ab7e4f77c0a"
      },
      "source": [
        "print(\"Twinkle, twinkle, little star, \\n\\tHow I wonder what you are! \\n\\t\\tUp above the world so high, \\n\\t\\tLike a diamond in the sky. \\nTwinkle, twinkle, little star, \\n\\tHow I wonder what you are\")"
      ],
      "execution_count": null,
      "outputs": [
        {
          "output_type": "stream",
          "text": [
            "Twinkle, twinkle, little star, \n",
            "\tHow I wonder what you are! \n",
            "\t\tUp above the world so high, \n",
            "\t\tLike a diamond in the sky. \n",
            "Twinkle, twinkle, little star, \n",
            "\tHow I wonder what you are\n"
          ],
          "name": "stdout"
        }
      ]
    },
    {
      "cell_type": "markdown",
      "metadata": {
        "id": "1hAq8mPW-Hv-",
        "colab_type": "text"
      },
      "source": [
        "2. Write a python program to test whether a number is within 100 of 1000 or 2000."
      ]
    },
    {
      "cell_type": "code",
      "metadata": {
        "id": "aTAfssX2_CDU",
        "colab_type": "code",
        "colab": {
          "base_uri": "https://localhost:8080/",
          "height": 85
        },
        "outputId": "2f2c174d-6145-49be-fa8b-9d2d66115663"
      },
      "source": [
        "def near_thousand(n):\n",
        "      return ((abs(1000 - n) <= 100) or (abs(2000 - n) <= 100))\n",
        "print(near_thousand(1000))\n",
        "print(near_thousand(900))\n",
        "print(near_thousand(300))   \n",
        "print(near_thousand(2300))"
      ],
      "execution_count": null,
      "outputs": [
        {
          "output_type": "stream",
          "text": [
            "True\n",
            "True\n",
            "False\n",
            "False\n"
          ],
          "name": "stdout"
        }
      ]
    },
    {
      "cell_type": "markdown",
      "metadata": {
        "id": "CkcBAxpAAL0Y",
        "colab_type": "text"
      },
      "source": [
        "3. Write a python program to calculate the sum of three given numbers,if the values are equal then return three of their sum."
      ]
    },
    {
      "cell_type": "code",
      "metadata": {
        "id": "188s3Vv8_ENS",
        "colab_type": "code",
        "colab": {
          "base_uri": "https://localhost:8080/",
          "height": 51
        },
        "outputId": "6a3ba670-05e5-466f-fe0a-1e8a0f651343"
      },
      "source": [
        "def sum_thrice(x, y, z):\n",
        "     sum = x + y + z\n",
        "     if x == y == z:\n",
        "      sum = sum * 3\n",
        "     return sum\n",
        "print(sum_thrice(1, 2, 3))\n",
        "print(sum_thrice(1, 6, 2))"
      ],
      "execution_count": null,
      "outputs": [
        {
          "output_type": "stream",
          "text": [
            "6\n",
            "9\n"
          ],
          "name": "stdout"
        }
      ]
    },
    {
      "cell_type": "markdown",
      "metadata": {
        "id": "qskryiBrBH76",
        "colab_type": "text"
      },
      "source": [
        "4. Write a python program to find whatever a given number(accept from the user) is even or odd , print out an appropriate message to the user."
      ]
    },
    {
      "cell_type": "code",
      "metadata": {
        "id": "z5JfzkZmA-D_",
        "colab_type": "code",
        "colab": {
          "base_uri": "https://localhost:8080/",
          "height": 51
        },
        "outputId": "79b0efda-f8f7-41a7-fb01-6b303060190c"
      },
      "source": [
        "num = int(input(\"Enter a number: \"))\n",
        "mod = num % 2\n",
        "if mod > 0:\n",
        "    print(\"The given number is odd number.\")\n",
        "else:\n",
        "    print(\"the given number is even number.\")"
      ],
      "execution_count": null,
      "outputs": [
        {
          "output_type": "stream",
          "text": [
            "Enter a number: 1\n",
            "The given number is odd number.\n"
          ],
          "name": "stdout"
        }
      ]
    },
    {
      "cell_type": "markdown",
      "metadata": {
        "id": "y385OHDtD8rs",
        "colab_type": "text"
      },
      "source": [
        "5. Write a python program to get a string made of the first 2 and the last 2 chars from a given string .if the string length is less than 2,return instead of the empty string. "
      ]
    },
    {
      "cell_type": "code",
      "metadata": {
        "id": "15PevolUCi8c",
        "colab_type": "code",
        "colab": {
          "base_uri": "https://localhost:8080/",
          "height": 85
        },
        "outputId": "fcb73a52-38d5-45a5-fad8-d3f559aa49a9"
      },
      "source": [
        "def string_both_ends(str):\n",
        "  if len(str) < 2:\n",
        "    return ''\n",
        "  return str[0:2] + str[-2:]\n",
        "print(string_both_ends('Manideep'))\n",
        "print(string_both_ends('Mani'))\n",
        "print(string_both_ends('Ma'))\n",
        "print(string_both_ends('M'))"
      ],
      "execution_count": null,
      "outputs": [
        {
          "output_type": "stream",
          "text": [
            "Maep\n",
            "Mani\n",
            "MaMa\n",
            "\n"
          ],
          "name": "stdout"
        }
      ]
    },
    {
      "cell_type": "markdown",
      "metadata": {
        "id": "xsKe_CzqFnHS",
        "colab_type": "text"
      },
      "source": [
        "6. Write a python program to get a single string from two given strings ,seperated by a space and swap the first two characters of each strings."
      ]
    },
    {
      "cell_type": "code",
      "metadata": {
        "id": "7nkPNgWnFYG_",
        "colab_type": "code",
        "colab": {
          "base_uri": "https://localhost:8080/",
          "height": 34
        },
        "outputId": "c75e45da-5d74-45da-e855-8c4aaa206694"
      },
      "source": [
        "def chars_mix_up(a, b):\n",
        "  new_a = b[:2] + a[2:]\n",
        "  new_b = a[:2] + b[2:]\n",
        "\n",
        "  return new_a + ' ' + new_b\n",
        "print(chars_mix_up('mom', 'dad'))"
      ],
      "execution_count": null,
      "outputs": [
        {
          "output_type": "stream",
          "text": [
            "dam mod\n"
          ],
          "name": "stdout"
        }
      ]
    },
    {
      "cell_type": "markdown",
      "metadata": {
        "id": "G-lsqZvjGngY",
        "colab_type": "text"
      },
      "source": [
        "7. Write a python program to find apperance of the substring 'not' and 'poor' from a given string ,if 'not' follows the 'poor',replace the whole 'not'...'poor' substring with 'good'."
      ]
    },
    {
      "cell_type": "code",
      "metadata": {
        "id": "rDt8JloIGdQC",
        "colab_type": "code",
        "colab": {
          "base_uri": "https://localhost:8080/",
          "height": 51
        },
        "outputId": "d7f8390a-641b-498e-cd4b-5bb602ce44eb"
      },
      "source": [
        "def not_poor(str1):\n",
        "  snot = str1.find('not')\n",
        "  spoor = str1.find('poor')\n",
        "  if spoor > snot and snot>0 and spoor>0:\n",
        "    str1 = str1.replace(str1[snot:(spoor+4)], 'good')\n",
        "    return str1\n",
        "  else:\n",
        "    return str1\n",
        "print(not_poor('The lyrics is not that poor!'))\n",
        "print(not_poor('The lyrics is poor!'))"
      ],
      "execution_count": null,
      "outputs": [
        {
          "output_type": "stream",
          "text": [
            "The lyrics is good!\n",
            "The lyrics is poor!\n"
          ],
          "name": "stdout"
        }
      ]
    },
    {
      "cell_type": "markdown",
      "metadata": {
        "id": "Ltq2scNLJIi_",
        "colab_type": "text"
      },
      "source": [
        "8. Write a python program to reverse a string if its length is a multiple of 4."
      ]
    },
    {
      "cell_type": "code",
      "metadata": {
        "id": "Kt230TmgIiCv",
        "colab_type": "code",
        "colab": {
          "base_uri": "https://localhost:8080/",
          "height": 68
        },
        "outputId": "39780820-074a-4b79-911a-e1e0fe8a6169"
      },
      "source": [
        "def reverse_string(str1):\n",
        "    if len(str1) % 4 == 0:\n",
        "       return ''.join(reversed(str1))\n",
        "    return str1\n",
        "print(reverse_string('mani'))\n",
        "print(reverse_string('manideep'))\n",
        "print(reverse_string('ch.manideep'))"
      ],
      "execution_count": null,
      "outputs": [
        {
          "output_type": "stream",
          "text": [
            "inam\n",
            "peedinam\n",
            "ch.manideep\n"
          ],
          "name": "stdout"
        }
      ]
    },
    {
      "cell_type": "markdown",
      "metadata": {
        "id": "myoPDLthKaK0",
        "colab_type": "text"
      },
      "source": [
        "9. Write a python function to convert all units of time into seconds."
      ]
    },
    {
      "cell_type": "code",
      "metadata": {
        "id": "k8Rlq934KGPN",
        "colab_type": "code",
        "colab": {
          "base_uri": "https://localhost:8080/",
          "height": 102
        },
        "outputId": "58376d9a-ced7-44a2-f70b-6ec655a6277a"
      },
      "source": [
        "days = int(input(\"Input days: \")) * 3600 * 24\n",
        "hours = int(input(\"Input hours: \")) * 3600\n",
        "minutes = int(input(\"Input minutes: \")) * 60\n",
        "seconds = int(input(\"Input seconds: \"))\n",
        "time = days + hours + minutes + seconds\n",
        "print(\"The total seconds is: \", time)"
      ],
      "execution_count": null,
      "outputs": [
        {
          "output_type": "stream",
          "text": [
            "Input days: 365\n",
            "Input hours: 24\n",
            "Input minutes: 60\n",
            "Input seconds: 60\n",
            "The total seconds is:  31626060\n"
          ],
          "name": "stdout"
        }
      ]
    },
    {
      "cell_type": "markdown",
      "metadata": {
        "id": "l3GROICRLnmP",
        "colab_type": "text"
      },
      "source": [
        "10. Write a python program to sort three integers without using conditional statements and loops."
      ]
    },
    {
      "cell_type": "code",
      "metadata": {
        "id": "MjY1JKrHLNVN",
        "colab_type": "code",
        "colab": {
          "base_uri": "https://localhost:8080/",
          "height": 85
        },
        "outputId": "c182d951-50a2-4a4b-b7a2-815b34de5091"
      },
      "source": [
        "x = int(input(\"Input first number: \"))\n",
        "y = int(input(\"Input second number: \"))\n",
        "z = int(input(\"Input third number: \"))\n",
        "a1 = min(x, y, z)\n",
        "a3 = max(x, y, z)\n",
        "a2 = (x + y + z) - a1 - a3\n",
        "print(\"Numbers in sorted order: \", a1, a2, a3)"
      ],
      "execution_count": null,
      "outputs": [
        {
          "output_type": "stream",
          "text": [
            "Input first number: 1\n",
            "Input second number: 6\n",
            "Input third number: 2\n",
            "Numbers in sorted order:  1 2 6\n"
          ],
          "name": "stdout"
        }
      ]
    },
    {
      "cell_type": "markdown",
      "metadata": {
        "id": "9E1r4esQMeuN",
        "colab_type": "text"
      },
      "source": [
        "11. Write a python program to get the details of the math module."
      ]
    },
    {
      "cell_type": "code",
      "metadata": {
        "id": "01-WQlPFMI8a",
        "colab_type": "code",
        "colab": {
          "base_uri": "https://localhost:8080/",
          "height": 54
        },
        "outputId": "2c1e60fb-4644-40e1-9935-f96df8e75c3d"
      },
      "source": [
        "import math            \n",
        "math_ls = dir(math) \n",
        "print(math_ls)"
      ],
      "execution_count": null,
      "outputs": [
        {
          "output_type": "stream",
          "text": [
            "['__doc__', '__loader__', '__name__', '__package__', '__spec__', 'acos', 'acosh', 'asin', 'asinh', 'atan', 'atan2', 'atanh', 'ceil', 'copysign', 'cos', 'cosh', 'degrees', 'e', 'erf', 'erfc', 'exp', 'expm1', 'fabs', 'factorial', 'floor', 'fmod', 'frexp', 'fsum', 'gamma', 'gcd', 'hypot', 'inf', 'isclose', 'isfinite', 'isinf', 'isnan', 'ldexp', 'lgamma', 'log', 'log10', 'log1p', 'log2', 'modf', 'nan', 'pi', 'pow', 'radians', 'sin', 'sinh', 'sqrt', 'tan', 'tanh', 'tau', 'trunc']\n"
          ],
          "name": "stdout"
        }
      ]
    },
    {
      "cell_type": "markdown",
      "metadata": {
        "id": "XwvoXp02Nqgm",
        "colab_type": "text"
      },
      "source": [
        "12. Write a python program to concatenate N strings."
      ]
    },
    {
      "cell_type": "code",
      "metadata": {
        "id": "rBWN_Mz-NcMx",
        "colab_type": "code",
        "colab": {
          "base_uri": "https://localhost:8080/",
          "height": 68
        },
        "outputId": "afc1bd5f-ccd3-4aad-cce7-eb0abdd2fe45"
      },
      "source": [
        "list_of_colors = ['violet', 'indigo', 'blue']  \n",
        "colors = '-'.join(list_of_colors)\n",
        "print()\n",
        "print(\"All Colors: \"+colors)\n",
        "print()"
      ],
      "execution_count": null,
      "outputs": [
        {
          "output_type": "stream",
          "text": [
            "\n",
            "All Colors: violet-indigo-blue\n",
            "\n"
          ],
          "name": "stdout"
        }
      ]
    }
  ]
}