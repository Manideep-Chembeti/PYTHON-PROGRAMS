{
  "nbformat": 4,
  "nbformat_minor": 0,
  "metadata": {
    "colab": {
      "name": "Python basic programs.ipynb",
      "provenance": [],
      "authorship_tag": "ABX9TyMsw9ltP+7GiJymbvXLlBkA",
      "include_colab_link": true
    },
    "kernelspec": {
      "name": "python3",
      "display_name": "Python 3"
    }
  },
  "cells": [
    {
      "cell_type": "markdown",
      "metadata": {
        "id": "view-in-github",
        "colab_type": "text"
      },
      "source": [
        "<a href=\"https://colab.research.google.com/github/Manideep-Chembeti/PYTHON-PROGRAMS/blob/master/Python_basic_programs.ipynb\" target=\"_parent\"><img src=\"https://colab.research.google.com/assets/colab-badge.svg\" alt=\"Open In Colab\"/></a>"
      ]
    },
    {
      "cell_type": "code",
      "metadata": {
        "id": "CZPqWvcr3S6_",
        "colab_type": "code",
        "colab": {
          "base_uri": "https://localhost:8080/",
          "height": 204
        },
        "outputId": "686ad65b-0b93-446d-e6e4-e59fac1704db"
      },
      "source": [
        "# Python program to design a simple calculator for the operators\n",
        "\n",
        "def add(x, y):\n",
        "    return x + y\n",
        "\n",
        "def subtract(x, y):\n",
        "    return x - y\n",
        "\n",
        "def multiply(x, y):\n",
        "    return x * y\n",
        "\n",
        "def divide(x, y):\n",
        "    return x / y\n",
        "\n",
        "def exponent(x, y):\n",
        "    return x ** y\n",
        "\n",
        "def floordivision(x, y):\n",
        "    return x // y\n",
        "\n",
        "print(\"Select operation.\")\n",
        "print(\"1.Add\")\n",
        "print(\"2.Subtract\")\n",
        "print(\"3.Multiply\")\n",
        "print(\"4.Divide\")\n",
        "print(\"5.Exponent\")\n",
        "print(\"6.Floordivision\")\n",
        "while True:\n",
        "    # Take input from the user\n",
        "    choice = input(\"Enter choice(1/2/3/4/5/6): \")\n",
        "\n",
        "    # Check if choice is one of the four options\n",
        "    if choice in ('1', '2', '3', '4','5','6'):\n",
        "        num1 = float(input(\"Enter first number: \"))\n",
        "        num2 = float(input(\"Enter second number: \"))\n",
        "\n",
        "        if choice == '1':\n",
        "            print(num1, \"+\", num2, \"=\", add(num1, num2))\n",
        "\n",
        "        elif choice == '2':\n",
        "            print(num1, \"-\", num2, \"=\", subtract(num1, num2))\n",
        "\n",
        "        elif choice == '3':\n",
        "            print(num1, \"*\", num2, \"=\", multiply(num1, num2))\n",
        "\n",
        "        elif choice == '4':\n",
        "            print(num1, \"/\", num2, \"=\", divide(num1, num2))\n",
        "\n",
        "        elif choice == '5':\n",
        "            print(num1,\"**\",num2,\"=\",exponent(num1, num2))\n",
        "\n",
        "        elif choice == '6':\n",
        "            print(num1,\"//\",num2,\"=\",floordivision(num1, num2))    \n",
        "\n",
        "        break\n",
        "\n",
        "    else:\n",
        "        print(\"Invalid Input\")"
      ],
      "execution_count": 13,
      "outputs": [
        {
          "output_type": "stream",
          "text": [
            "Select operation.\n",
            "1.Add\n",
            "2.Subtract\n",
            "3.Multiply\n",
            "4.Divide\n",
            "5.Exponent\n",
            "6.Floordivision\n",
            "Enter choice(1/2/3/4/5/6): 6\n",
            "Enter first number: 2\n",
            "Enter second number: 3\n",
            "2.0 // 3.0 = 0.0\n"
          ],
          "name": "stdout"
        }
      ]
    },
    {
      "cell_type": "code",
      "metadata": {
        "id": "M09EKaf73hRD",
        "colab_type": "code",
        "colab": {
          "base_uri": "https://localhost:8080/",
          "height": 85
        },
        "outputId": "b2ea7bdb-699e-4832-a4c2-7bfc9593fdec"
      },
      "source": [
        "# Python program to calculate simple interest\n",
        "\n",
        "p = float(input(\"Enter the principal amount: \"))\n",
        "t = float(input(\"Enter the time in years: \"))\n",
        "r = float(input(\"Enter the interest rate: \"))\n",
        "\n",
        "simple_interest = p * t * r / 100\n",
        "\n",
        "print(\"Simple Interest = %.2f\" %simple_interest)"
      ],
      "execution_count": 1,
      "outputs": [
        {
          "output_type": "stream",
          "text": [
            "Enter the principal amount: 8\n",
            "Enter the time in years: 6\n",
            "Enter the interest rate: 8\n",
            "Simple Interest = 3.84\n"
          ],
          "name": "stdout"
        }
      ]
    },
    {
      "cell_type": "code",
      "metadata": {
        "id": "P3d7cIdj3wLh",
        "colab_type": "code",
        "colab": {
          "base_uri": "https://localhost:8080/",
          "height": 68
        },
        "outputId": "c8a8d7f8-e8a2-47b6-ab0d-799d88b7ca68"
      },
      "source": [
        "# Python program to calculate area of cirle and circumference of a circle\n",
        "\n",
        "PI = 3.14\n",
        "radius = float(input(' Please Enter the radius of a circle: '))\n",
        "area = PI * radius * radius\n",
        "circumference = 2 * PI * radius\n",
        "\n",
        "print(\" Area Of a Circle = %.2f\" %area)\n",
        "print(\" Circumference Of a Circle = %.2f\" %circumference)"
      ],
      "execution_count": 2,
      "outputs": [
        {
          "output_type": "stream",
          "text": [
            " Please Enter the radius of a circle: 4\n",
            " Area Of a Circle = 50.24\n",
            " Circumference Of a Circle = 25.12\n"
          ],
          "name": "stdout"
        }
      ]
    },
    {
      "cell_type": "code",
      "metadata": {
        "id": "33Bnx4xf4hnw",
        "colab_type": "code",
        "colab": {
          "base_uri": "https://localhost:8080/",
          "height": 85
        },
        "outputId": "f0ce36da-8c5f-4a20-9189-f579b2479f5d"
      },
      "source": [
        "# Python program to calculate area of a triangle\n",
        "\n",
        "a = float(input('Enter first side: '))\n",
        "b = float(input('Enter second side: '))\n",
        "c = float(input('Enter third side: '))\n",
        "s = (a + b + c) / 2\n",
        "area = (s*(s-a)*(s-b)*(s-c)) ** 0.5\n",
        "print('The area of the triangle is %0.2f' %area)"
      ],
      "execution_count": 3,
      "outputs": [
        {
          "output_type": "stream",
          "text": [
            "Enter first side: 5\n",
            "Enter second side: 6\n",
            "Enter third side: 7\n",
            "The area of the triangle is 14.70\n"
          ],
          "name": "stdout"
        }
      ]
    },
    {
      "cell_type": "code",
      "metadata": {
        "id": "5LTmGmC85FUU",
        "colab_type": "code",
        "colab": {
          "base_uri": "https://localhost:8080/",
          "height": 34
        },
        "outputId": "ed92c0f1-f4f6-4ccf-eb14-2a80a2152655"
      },
      "source": [
        "# Python program to convert the temperature from celsisus to fahrenheit \n",
        "\n",
        "celsius = 34\n",
        "fahrenheit = (celsius * 1.8) + 32\n",
        "print('%0.1f degree Celsius is equal to %0.1f degree Fahrenheit' %(celsius,fahrenheit))"
      ],
      "execution_count": 4,
      "outputs": [
        {
          "output_type": "stream",
          "text": [
            "34.0 degree Celsius is equal to 93.2 degree Fahrenheit\n"
          ],
          "name": "stdout"
        }
      ]
    },
    {
      "cell_type": "code",
      "metadata": {
        "id": "lgQLg_UO6AlS",
        "colab_type": "code",
        "colab": {
          "base_uri": "https://localhost:8080/",
          "height": 102
        },
        "outputId": "b48d112c-5320-4a2b-8fd5-bde18ec89272"
      },
      "source": [
        "# Python program to calculate area and perimeter of a rectangle\n",
        "\n",
        "length = float(input('Please Enter the length of a Rectangle: '))\n",
        "breadth = float(input('Please Enter the breadth of a Rectangle: '))\n",
        "# calculate the area\n",
        "Area = length * breadth\n",
        "# calculate the Perimeter\n",
        "Perimeter = 2 * (length + breadth)\n",
        "print(\"\\n Area of a Rectangle is: %.2f\" %Area)\n",
        "print(\" Perimeter of Rectangle is: %.2f\" %Perimeter)"
      ],
      "execution_count": 5,
      "outputs": [
        {
          "output_type": "stream",
          "text": [
            "Please Enter the length of a Rectangle: 4\n",
            "Please Enter the breadth of a Rectangle: 2\n",
            "\n",
            " Area of a Rectangle is: 8.00\n",
            " Perimeter of Rectangle is: 12.00\n"
          ],
          "name": "stdout"
        }
      ]
    },
    {
      "cell_type": "code",
      "metadata": {
        "id": "7zejNAf561Pt",
        "colab_type": "code",
        "colab": {
          "base_uri": "https://localhost:8080/",
          "height": 68
        },
        "outputId": "f15c9702-e559-446d-83c4-fe6cb516c03a"
      },
      "source": [
        "# Python program to calculate  area and perimeter of a square\n",
        "\n",
        "s=int(input(\"Side : \"))\n",
        "area=s*s\n",
        "perimeter=4*s\n",
        "print(\"Area of Rectangle : \",area)\n",
        "print(\"Perimeter of Rectangle : \",perimeter)"
      ],
      "execution_count": 6,
      "outputs": [
        {
          "output_type": "stream",
          "text": [
            "Side : 5\n",
            "Area of Rectangle :  25\n",
            "Perimeter of Rectangle :  20\n"
          ],
          "name": "stdout"
        }
      ]
    },
    {
      "cell_type": "code",
      "metadata": {
        "id": "g-jvLRFz7WUp",
        "colab_type": "code",
        "colab": {
          "base_uri": "https://localhost:8080/",
          "height": 85
        },
        "outputId": "4a1719ad-a4b5-4c9d-89b7-bdc696e1f39c"
      },
      "source": [
        "# Python program to swap two numbers\n",
        "\n",
        "x = input('Enter value of x: ')\n",
        "y = input('Enter value of y: ')\n",
        "# create a temporary variable and swap the values\n",
        "temp = x\n",
        "x = y\n",
        "y = temp\n",
        "print('The value of x after swapping: {}'.format(x))\n",
        "print('The value of y after swapping: {}'.format(y))"
      ],
      "execution_count": 7,
      "outputs": [
        {
          "output_type": "stream",
          "text": [
            "Enter value of x: 3\n",
            "Enter value of y: 5\n",
            "The value of x after swapping: 5\n",
            "The value of y after swapping: 3\n"
          ],
          "name": "stdout"
        }
      ]
    },
    {
      "cell_type": "code",
      "metadata": {
        "id": "niA9K5pi9zxp",
        "colab_type": "code",
        "colab": {}
      },
      "source": [
        ""
      ],
      "execution_count": null,
      "outputs": []
    }
  ]
}