{
  "nbformat": 4,
  "nbformat_minor": 0,
  "metadata": {
    "colab": {
      "name": "Python programs on tuple.ipynb",
      "provenance": [],
      "collapsed_sections": [],
      "authorship_tag": "ABX9TyO9uQCtE1PKqhTWQesrkZH9",
      "include_colab_link": true
    },
    "kernelspec": {
      "name": "python3",
      "display_name": "Python 3"
    }
  },
  "cells": [
    {
      "cell_type": "markdown",
      "metadata": {
        "id": "view-in-github",
        "colab_type": "text"
      },
      "source": [
        "<a href=\"https://colab.research.google.com/github/Manideep-Chembeti/PYTHON-PROGRAMS/blob/master/Python_programs_on_tuple.ipynb\" target=\"_parent\"><img src=\"https://colab.research.google.com/assets/colab-badge.svg\" alt=\"Open In Colab\"/></a>"
      ]
    },
    {
      "cell_type": "code",
      "metadata": {
        "id": "hn5Zd7H_GupQ",
        "colab_type": "code",
        "colab": {
          "base_uri": "https://localhost:8080/",
          "height": 85
        },
        "outputId": "5cf4f851-8b2d-420e-e246-60bcb0d52376"
      },
      "source": [
        "# Python program to create a tuple.\n",
        "\n",
        "my_tuple = ()\n",
        "print(my_tuple)\n",
        "my_tuple = (1, 2, 3)\n",
        "print(my_tuple)\n",
        "my_tuple = (1, \"Hello\", 3.4)\n",
        "print(my_tuple)\n",
        "my_tuple = (\"mouse\", [8, 4, 6], (1, 2, 3))\n",
        "print(my_tuple)"
      ],
      "execution_count": 1,
      "outputs": [
        {
          "output_type": "stream",
          "text": [
            "()\n",
            "(1, 2, 3)\n",
            "(1, 'Hello', 3.4)\n",
            "('mouse', [8, 4, 6], (1, 2, 3))\n"
          ],
          "name": "stdout"
        }
      ]
    },
    {
      "cell_type": "code",
      "metadata": {
        "id": "hWstVtA5HBmh",
        "colab_type": "code",
        "colab": {
          "base_uri": "https://localhost:8080/",
          "height": 34
        },
        "outputId": "d3608b7d-ee70-4c89-b7ad-4b3d693184a3"
      },
      "source": [
        "# Python program to create a tuple with different data types.\n",
        "\n",
        "tuplex = (\"tuple\", False, 3.2, 1)\n",
        "print(tuplex)"
      ],
      "execution_count": 2,
      "outputs": [
        {
          "output_type": "stream",
          "text": [
            "('tuple', False, 3.2, 1)\n"
          ],
          "name": "stdout"
        }
      ]
    },
    {
      "cell_type": "code",
      "metadata": {
        "id": "3uFpFcLEHfTI",
        "colab_type": "code",
        "colab": {
          "base_uri": "https://localhost:8080/",
          "height": 34
        },
        "outputId": "5ceec01d-c0d0-4713-bb8e-5abaaa941fa2"
      },
      "source": [
        "# Python program to convert a tuple to a string.\n",
        "\n",
        "tup = ('m', 'a', 'n', 'i', 'd', 'e', 'e', 'p')\n",
        "str =  ''.join(tup)\n",
        "print(str)"
      ],
      "execution_count": 4,
      "outputs": [
        {
          "output_type": "stream",
          "text": [
            "manideep\n"
          ],
          "name": "stdout"
        }
      ]
    },
    {
      "cell_type": "code",
      "metadata": {
        "id": "0a91lOlBHz4t",
        "colab_type": "code",
        "colab": {
          "base_uri": "https://localhost:8080/",
          "height": 85
        },
        "outputId": "897bd082-031e-4131-af1c-bf476470ac62"
      },
      "source": [
        "# Python program to slice a tuple.\n",
        "\n",
        "tuplex = tuple(\"HELLO WORLD\")\n",
        "print(tuplex)\n",
        "_slice = tuplex[2:9:2]\n",
        "print(_slice) \n",
        "_slice = tuplex[::4]\n",
        "print(_slice)\n",
        "_slice = tuplex[9:2:-4]\n",
        "print(_slice)"
      ],
      "execution_count": 8,
      "outputs": [
        {
          "output_type": "stream",
          "text": [
            "('H', 'E', 'L', 'L', 'O', ' ', 'W', 'O', 'R', 'L', 'D')\n",
            "('L', 'O', 'W', 'R')\n",
            "('H', 'O', 'R')\n",
            "('L', ' ')\n"
          ],
          "name": "stdout"
        }
      ]
    },
    {
      "cell_type": "code",
      "metadata": {
        "id": "xiFnFEuVIMtv",
        "colab_type": "code",
        "colab": {
          "base_uri": "https://localhost:8080/",
          "height": 51
        },
        "outputId": "d194bdbc-e6ab-4b61-d566-90e398cbc554"
      },
      "source": [
        "# Python program to find the length of a tuple.\n",
        "\n",
        "tuplex = tuple(\"python programming\")\n",
        "print(tuplex)\n",
        "print(len(tuplex))"
      ],
      "execution_count": 10,
      "outputs": [
        {
          "output_type": "stream",
          "text": [
            "('p', 'y', 't', 'h', 'o', 'n', ' ', 'p', 'r', 'o', 'g', 'r', 'a', 'm', 'm', 'i', 'n', 'g')\n",
            "18\n"
          ],
          "name": "stdout"
        }
      ]
    },
    {
      "cell_type": "code",
      "metadata": {
        "id": "edsK2DcSJBMn",
        "colab_type": "code",
        "colab": {
          "base_uri": "https://localhost:8080/",
          "height": 34
        },
        "outputId": "c3a5b1ba-0225-42c2-c6ec-804e3cff1502"
      },
      "source": [
        "# Python program to convert a tuple to a dictionary.\n",
        "\n",
        "tuplex = ((2, \"w\"),(3, \"r\"))\n",
        "print(dict((y, x) for x, y in tuplex))"
      ],
      "execution_count": 11,
      "outputs": [
        {
          "output_type": "stream",
          "text": [
            "{'w': 2, 'r': 3}\n"
          ],
          "name": "stdout"
        }
      ]
    },
    {
      "cell_type": "code",
      "metadata": {
        "id": "SuoyRRqgJZar",
        "colab_type": "code",
        "colab": {
          "base_uri": "https://localhost:8080/",
          "height": 34
        },
        "outputId": "c4218fbc-5399-4848-86b0-a6698f9cf726"
      },
      "source": [
        "# Python program to reverse a tuple.\n",
        "\n",
        "x = (\"python\")\n",
        "y = reversed(x)\n",
        "print(tuple(y))"
      ],
      "execution_count": 12,
      "outputs": [
        {
          "output_type": "stream",
          "text": [
            "('n', 'o', 'h', 't', 'y', 'p')\n"
          ],
          "name": "stdout"
        }
      ]
    },
    {
      "cell_type": "code",
      "metadata": {
        "id": "WXuPX_1UJnSi",
        "colab_type": "code",
        "colab": {
          "base_uri": "https://localhost:8080/",
          "height": 34
        },
        "outputId": "1e15e46d-156e-40b0-d807-9743d3feec99"
      },
      "source": [
        "# Python program to convert a list of tuples into a dictionary.\n",
        "\n",
        "l = [(\"x\", 1), (\"x\", 2), (\"x\", 3), (\"y\", 1), (\"y\", 2), (\"z\", 1)]\n",
        "d = {}\n",
        "for a, b in l:\n",
        "    d.setdefault(a, []).append(b)\n",
        "print (d)"
      ],
      "execution_count": 13,
      "outputs": [
        {
          "output_type": "stream",
          "text": [
            "{'x': [1, 2, 3], 'y': [1, 2], 'z': [1]}\n"
          ],
          "name": "stdout"
        }
      ]
    },
    {
      "cell_type": "code",
      "metadata": {
        "id": "EDhFsdjRJ4La",
        "colab_type": "code",
        "colab": {
          "base_uri": "https://localhost:8080/",
          "height": 34
        },
        "outputId": "046d0d1f-9220-4bf7-b329-1810f5e18f73"
      },
      "source": [
        "# Python program to convert a list of tuple.\n",
        "\n",
        "listx = [5, 10, 7, 4, 15, 3]\n",
        "tuplex = tuple(listx)\n",
        "print(tuplex)"
      ],
      "execution_count": 14,
      "outputs": [
        {
          "output_type": "stream",
          "text": [
            "(5, 10, 7, 4, 15, 3)\n"
          ],
          "name": "stdout"
        }
      ]
    }
  ]
}