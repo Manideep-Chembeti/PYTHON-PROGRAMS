{
  "nbformat": 4,
  "nbformat_minor": 0,
  "metadata": {
    "colab": {
      "name": "Python programs on loops and strings.ipynb",
      "provenance": [],
      "collapsed_sections": [],
      "authorship_tag": "ABX9TyPyrWStcPwtYh0/7yFblOLN",
      "include_colab_link": true
    },
    "kernelspec": {
      "name": "python3",
      "display_name": "Python 3"
    }
  },
  "cells": [
    {
      "cell_type": "markdown",
      "metadata": {
        "id": "view-in-github",
        "colab_type": "text"
      },
      "source": [
        "<a href=\"https://colab.research.google.com/github/Manideep-Chembeti/PYTHON-PROGRAMS/blob/master/Python_programs_on_loops_and_strings.ipynb\" target=\"_parent\"><img src=\"https://colab.research.google.com/assets/colab-badge.svg\" alt=\"Open In Colab\"/></a>"
      ]
    },
    {
      "cell_type": "code",
      "metadata": {
        "id": "7RobByKJIgn5",
        "colab_type": "code",
        "colab": {
          "base_uri": "https://localhost:8080/",
          "height": 51
        },
        "outputId": "56b82f0e-a2d8-4706-d9cc-10481f19901c"
      },
      "source": [
        "# Python program to calculate the length of a string.\n",
        "\n",
        "str = input(\"Enter a string: \")\n",
        "\n",
        "counter = 0\n",
        "for s in str:\n",
        "      counter = counter+1\n",
        "print(\"Length of the input string is:\", counter)"
      ],
      "execution_count": 1,
      "outputs": [
        {
          "output_type": "stream",
          "text": [
            "Enter a string: manideep\n",
            "Length of the input string is: 8\n"
          ],
          "name": "stdout"
        }
      ]
    },
    {
      "cell_type": "code",
      "metadata": {
        "id": "Qkrzeo-3tXfA",
        "colab_type": "code",
        "colab": {
          "base_uri": "https://localhost:8080/",
          "height": 34
        },
        "outputId": "0741273f-b976-46b8-e338-fc89ec222af7"
      },
      "source": [
        "# Pyhton program to count the number of characters(character frequency in a string).\n",
        "\n",
        "def char_frequency(str1):\n",
        "    dict = {}\n",
        "    for n in str1:\n",
        "        keys = dict.keys()\n",
        "        if n in keys:\n",
        "            dict[n] += 1\n",
        "        else:\n",
        "            dict[n] = 1\n",
        "    return dict\n",
        "print(char_frequency('manideep.ch'))"
      ],
      "execution_count": 2,
      "outputs": [
        {
          "output_type": "stream",
          "text": [
            "{'m': 1, 'a': 1, 'n': 1, 'i': 1, 'd': 1, 'e': 2, 'p': 1, '.': 1, 'c': 1, 'h': 1}\n"
          ],
          "name": "stdout"
        }
      ]
    },
    {
      "cell_type": "code",
      "metadata": {
        "id": "RXUC9cQJt-K9",
        "colab_type": "code",
        "colab": {
          "base_uri": "https://localhost:8080/",
          "height": 34
        },
        "outputId": "3df3a942-552d-40bc-8a1e-7b3e8d8ca8cb"
      },
      "source": [
        "# Python program to get a single string from two given strings,seperated by a space and swap the first two characters of each string.\n",
        "\n",
        "def chars_mix_up(a, b):\n",
        "  new_a = b[:2] + a[2:]\n",
        "  new_b = a[:2] + b[2:]\n",
        "\n",
        "  return new_a + ' ' + new_b\n",
        "print(chars_mix_up('qwerty', 'keyboard'))"
      ],
      "execution_count": 3,
      "outputs": [
        {
          "output_type": "stream",
          "text": [
            "keerty qwyboard\n"
          ],
          "name": "stdout"
        }
      ]
    },
    {
      "cell_type": "code",
      "metadata": {
        "id": "apT_vTx2vCJv",
        "colab_type": "code",
        "colab": {
          "base_uri": "https://localhost:8080/",
          "height": 68
        },
        "outputId": "c3e62098-5662-4179-95db-8465e7640222"
      },
      "source": [
        "# Python program script that takes input from the user and displays that input back in upper and lower cases.\n",
        "\n",
        "user_input = input(\"What's your name? \")\n",
        "print(\"My name is \", user_input.upper())\n",
        "print(\"My name is \", user_input.lower())"
      ],
      "execution_count": 6,
      "outputs": [
        {
          "output_type": "stream",
          "text": [
            "What's your name? manideep\n",
            "My name is  MANIDEEP\n",
            "My name is  manideep\n"
          ],
          "name": "stdout"
        }
      ]
    },
    {
      "cell_type": "code",
      "metadata": {
        "id": "-V86l2ewvnud",
        "colab_type": "code",
        "colab": {
          "base_uri": "https://localhost:8080/",
          "height": 68
        },
        "outputId": "9e1a50da-2c5a-4fd2-c5f7-b5cc68ea38f0"
      },
      "source": [
        "# Python program to remove a newline in python.\n",
        "\n",
        "str1='manideep\\n'\n",
        "print(str1)\n",
        "print(str1.rstrip())"
      ],
      "execution_count": 8,
      "outputs": [
        {
          "output_type": "stream",
          "text": [
            "manideep\n",
            "\n",
            "manideep\n"
          ],
          "name": "stdout"
        }
      ]
    },
    {
      "cell_type": "code",
      "metadata": {
        "id": "0hXRQvKLwmrg",
        "colab_type": "code",
        "colab": {
          "base_uri": "https://localhost:8080/",
          "height": 34
        },
        "outputId": "195b9240-8c16-4549-abd4-625df427c732"
      },
      "source": [
        "# Python program to count occurence of a substring in a string.\n",
        "\n",
        "str1 = 'this is a program to count occurence of a substring in a string.'\n",
        "print(str1.count(\"a\"))"
      ],
      "execution_count": 16,
      "outputs": [
        {
          "output_type": "stream",
          "text": [
            "4\n"
          ],
          "name": "stdout"
        }
      ]
    },
    {
      "cell_type": "code",
      "metadata": {
        "id": "3EUPdpFtxIbL",
        "colab_type": "code",
        "colab": {
          "base_uri": "https://localhost:8080/",
          "height": 34
        },
        "outputId": "1413e8e1-db53-46d0-a559-b235945b5a8b"
      },
      "source": [
        "# Python program to convert a string in a list.\n",
        "\n",
        "def Convert(string): \n",
        "    li = list(string.split(\" \")) \n",
        "    return li   \n",
        "\n",
        "str1 = \"hi my name is manideep.\"\n",
        "print(Convert(str1))"
      ],
      "execution_count": 21,
      "outputs": [
        {
          "output_type": "stream",
          "text": [
            "['hi', 'my', 'name', 'is', 'manideep.']\n"
          ],
          "name": "stdout"
        }
      ]
    },
    {
      "cell_type": "code",
      "metadata": {
        "id": "siSdGiodydpS",
        "colab_type": "code",
        "colab": {
          "base_uri": "https://localhost:8080/",
          "height": 34
        },
        "outputId": "2166da0a-7f00-45e7-fdcd-81adcf0abcd8"
      },
      "source": [
        "# Python program to perform deletion of a character.\n",
        "\n",
        "def remove(string, i):  \n",
        "   a = string[ : i]   \n",
        "   b = string[i + 1: ]  \n",
        "   return a + b  \n",
        "if __name__ == '__main__': \n",
        " string = \"programing\" \n",
        " i = 5\n",
        "print(remove(string, i))"
      ],
      "execution_count": 4,
      "outputs": [
        {
          "output_type": "stream",
          "text": [
            "progrming\n"
          ],
          "name": "stdout"
        }
      ]
    },
    {
      "cell_type": "code",
      "metadata": {
        "id": "UkQfUH3fRuMF",
        "colab_type": "code",
        "colab": {
          "base_uri": "https://localhost:8080/",
          "height": 136
        },
        "outputId": "f005029a-425f-4f5d-d0f3-2f31b38e8991"
      },
      "source": [
        "# Python program to print every character of a string entered by user in a new line using loop.\n",
        "\n",
        "word=str (input(\"Enter the string \"))\n",
        "for index,letter in enumerate(word,1):\n",
        "    print(index,\":\",letter)"
      ],
      "execution_count": 11,
      "outputs": [
        {
          "output_type": "stream",
          "text": [
            "Enter the string qwerty\n",
            "1 : q\n",
            "2 : w\n",
            "3 : e\n",
            "4 : r\n",
            "5 : t\n",
            "6 : y\n"
          ],
          "name": "stdout"
        }
      ]
    },
    {
      "cell_type": "code",
      "metadata": {
        "id": "nILT0QAzSrVe",
        "colab_type": "code",
        "colab": {
          "base_uri": "https://localhost:8080/",
          "height": 34
        },
        "outputId": "7cbc0540-0b1d-4bf4-daac-8ca6f741f009"
      },
      "source": [
        "# Python program to find the length of the string \"refrigerator\" without using len function.\n",
        "\n",
        "a = \"refrigerator\"\n",
        "count = 0\n",
        "for i in a:\n",
        "  count = count+1\n",
        "print(count)"
      ],
      "execution_count": 13,
      "outputs": [
        {
          "output_type": "stream",
          "text": [
            "12\n"
          ],
          "name": "stdout"
        }
      ]
    }
  ]
}