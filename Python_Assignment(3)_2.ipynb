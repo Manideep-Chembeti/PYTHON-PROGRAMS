{
  "nbformat": 4,
  "nbformat_minor": 0,
  "metadata": {
    "colab": {
      "name": "Python Assignment(3)-2.ipynb",
      "provenance": [],
      "collapsed_sections": [],
      "authorship_tag": "ABX9TyM9y1+ghHEGMG4ZhoZHIwxE",
      "include_colab_link": true
    },
    "kernelspec": {
      "name": "python3",
      "display_name": "Python 3"
    }
  },
  "cells": [
    {
      "cell_type": "markdown",
      "metadata": {
        "id": "view-in-github",
        "colab_type": "text"
      },
      "source": [
        "<a href=\"https://colab.research.google.com/github/Manideep-Chembeti/PYTHON-PROGRAMS/blob/master/Python_Assignment(3)_2.ipynb\" target=\"_parent\"><img src=\"https://colab.research.google.com/assets/colab-badge.svg\" alt=\"Open In Colab\"/></a>"
      ]
    },
    {
      "cell_type": "markdown",
      "metadata": {
        "id": "4EbNtgGg3k2G"
      },
      "source": [
        "1.Find minimum among three numbers."
      ]
    },
    {
      "cell_type": "code",
      "metadata": {
        "id": "hpaaT-qD3lgg",
        "outputId": "d0248d91-68eb-4738-aaad-583514d6c7d1",
        "colab": {
          "base_uri": "https://localhost:8080/",
          "height": 85
        }
      },
      "source": [
        "def minimum(a,b,c):\n",
        "  if (a<b) and (a<c):\n",
        "    smallest = a\n",
        "  elif (b<a) and (b<c):\n",
        "    smallest = b\n",
        "  else:\n",
        "    largest = c\n",
        "  return smallest\n",
        "a=int(input('Enter first number'))\n",
        "b=int(input('Enter second number'))\n",
        "c=int(input('Enter third number'))\n",
        "print(\"The minimum of three numbers is\" , +minimum(a,b,c))"
      ],
      "execution_count": 11,
      "outputs": [
        {
          "output_type": "stream",
          "text": [
            "Enter first number1\n",
            "Enter second number2\n",
            "Enter third number6\n",
            "The minimum of three numbers is 1\n"
          ],
          "name": "stdout"
        }
      ]
    },
    {
      "cell_type": "markdown",
      "metadata": {
        "id": "DkrPvsEV23AE"
      },
      "source": [
        "2.Find the GCD and LCM oftwo/three numbers"
      ]
    },
    {
      "cell_type": "code",
      "metadata": {
        "id": "CmI1SEd91fkI",
        "outputId": "04d2945a-b89b-4941-b85f-77b70b2a1c16",
        "colab": {
          "base_uri": "https://localhost:8080/",
          "height": 34
        }
      },
      "source": [
        "def gcd(x,y):\n",
        "  if x > y :\n",
        "    smaller = y\n",
        "  else:\n",
        "    smaller = x\n",
        "  for i in range(1, smaller+1):\n",
        "    if((x % i == 0) and (y % i ==0)):\n",
        "      gcd = i\n",
        "  return gcd\n",
        "n1 = 10\n",
        "n2 = 15\n",
        "print(\"The GCD is \", gcd(n1,n2))"
      ],
      "execution_count": 2,
      "outputs": [
        {
          "output_type": "stream",
          "text": [
            "The GCD is  5\n"
          ],
          "name": "stdout"
        }
      ]
    },
    {
      "cell_type": "code",
      "metadata": {
        "id": "ok7mDmJk1tei",
        "outputId": "5165f4a9-f33c-496f-bbeb-b3383d7fc570",
        "colab": {
          "base_uri": "https://localhost:8080/",
          "height": 34
        }
      },
      "source": [
        "lcm = n1 * n2 / gcd(n1,n2)\n",
        "print(\"LCM of %d and %d is %d\" %(n1,n2,lcm))"
      ],
      "execution_count": 3,
      "outputs": [
        {
          "output_type": "stream",
          "text": [
            "LCM of 10 and 15 is 30\n"
          ],
          "name": "stdout"
        }
      ]
    },
    {
      "cell_type": "markdown",
      "metadata": {
        "id": "nnjnR3HC3Gwh"
      },
      "source": [
        "3.Check whether the given number is perfect."
      ]
    },
    {
      "cell_type": "code",
      "metadata": {
        "id": "i0Qdmk6n1yfs",
        "outputId": "1b8386ac-8962-457d-b035-06287aa44f93",
        "colab": {
          "base_uri": "https://localhost:8080/",
          "height": 51
        }
      },
      "source": [
        "x = int(input(\"Enter any number: \"))\n",
        "sum = 0\n",
        "for i in range(1,x):\n",
        "  if(x % i == 0):\n",
        "    sum = sum + i\n",
        "if (sum == x):\n",
        "  print(\"The number is a perfect number \")\n",
        "else:\n",
        "  print(\"The number is not a perfect number \")"
      ],
      "execution_count": 4,
      "outputs": [
        {
          "output_type": "stream",
          "text": [
            "Enter any number: 5\n",
            "The number is not a perfect number \n"
          ],
          "name": "stdout"
        }
      ]
    },
    {
      "cell_type": "markdown",
      "metadata": {
        "id": "jBCjhFGt3SC3"
      },
      "source": [
        "4.Print Twin primes upto a specified limit.\n"
      ]
    },
    {
      "cell_type": "code",
      "metadata": {
        "id": "Be08Z76c1_7q",
        "outputId": "66bc95fc-5087-4ccf-c661-287f130fed5b",
        "colab": {
          "base_uri": "https://localhost:8080/",
          "height": 153
        }
      },
      "source": [
        "def prime(n):\n",
        "  for i in range(2, n):\n",
        "    if n % i == 0:\n",
        "      return False\n",
        "  return True\n",
        "def twin_primes(start, end):\n",
        "  for i in range(start, end):\n",
        "    j = i + 2\n",
        "    if(prime(i) and prime(j)):\n",
        "      print(\"{:d} and {:d}\" .format(i, j))\n",
        "twin_primes(3,90)"
      ],
      "execution_count": 5,
      "outputs": [
        {
          "output_type": "stream",
          "text": [
            "3 and 5\n",
            "5 and 7\n",
            "11 and 13\n",
            "17 and 19\n",
            "29 and 31\n",
            "41 and 43\n",
            "59 and 61\n",
            "71 and 73\n"
          ],
          "name": "stdout"
        }
      ]
    },
    {
      "cell_type": "markdown",
      "metadata": {
        "id": "nXTKT0uh3cY1"
      },
      "source": [
        "5.Print the prime numbers upto a specified limit."
      ]
    },
    {
      "cell_type": "code",
      "metadata": {
        "id": "PGGAZPTb2DzB",
        "outputId": "10b3624b-9a19-4f5c-9f48-f283917625a8",
        "colab": {
          "base_uri": "https://localhost:8080/",
          "height": 221
        }
      },
      "source": [
        "lower = int(input(\"Enter lower range: \"))\n",
        "upper = int(input(\"Enter upper range: \"))\n",
        "for n in range(lower,upper+1):\n",
        "  if n>1:\n",
        "    for i in range(2,n):\n",
        "      if(n % i) == 0:\n",
        "        break\n",
        "    else:\n",
        "      print(n)"
      ],
      "execution_count": 7,
      "outputs": [
        {
          "output_type": "stream",
          "text": [
            "Enter lower range: 4\n",
            "Enter upper range: 40\n",
            "5\n",
            "7\n",
            "11\n",
            "13\n",
            "17\n",
            "19\n",
            "23\n",
            "29\n",
            "31\n",
            "37\n"
          ],
          "name": "stdout"
        }
      ]
    },
    {
      "cell_type": "markdown",
      "metadata": {
        "id": "v4Z2t_R83e1A"
      },
      "source": [
        "6.Find the sum of digits of a number.Check whether given number is Amstrong number or not."
      ]
    },
    {
      "cell_type": "code",
      "metadata": {
        "id": "CZ9nfiTE2LcW",
        "outputId": "09af8692-02ff-4d0b-bcf5-ca7d188ee94f",
        "colab": {
          "base_uri": "https://localhost:8080/",
          "height": 51
        }
      },
      "source": [
        "num = int(input(\"Enter a number: \"))\n",
        "sum = 0\n",
        "temp = num\n",
        "while temp > 0:\n",
        "  digit = temp % 10\n",
        "  sum += digit ** 3\n",
        "  temp //= 10\n",
        "if num == sum:\n",
        "  print(num,\" is an Armstrong number\")\n",
        "else:\n",
        "  print(num,\" is not an Armstrong number\")"
      ],
      "execution_count": 8,
      "outputs": [
        {
          "output_type": "stream",
          "text": [
            "Enter a number: 7\n",
            "7  is not an Armstrong number\n"
          ],
          "name": "stdout"
        }
      ]
    },
    {
      "cell_type": "markdown",
      "metadata": {
        "id": "r6Acof4e3gfN"
      },
      "source": [
        "7.Swapping of two numbers.\n"
      ]
    },
    {
      "cell_type": "code",
      "metadata": {
        "id": "fQe6VBbD2Z93",
        "outputId": "b652e338-9cde-4442-86f2-97d2ee2afb52",
        "colab": {
          "base_uri": "https://localhost:8080/",
          "height": 119
        }
      },
      "source": [
        "x=int(input(\"Enter the first value \"))\n",
        "y=int(input(\"Enter the second value \"))\n",
        "print(\"The value of x before swapping: \", x)\n",
        "print(\"The value of y before swapping: \", y)\n",
        "1\n",
        "temp = x\n",
        "x = y\n",
        "y = temp\n",
        "print(\"The value of x after swapping \",x)\n",
        "print(\"The value of y after swapping \",y)"
      ],
      "execution_count": 9,
      "outputs": [
        {
          "output_type": "stream",
          "text": [
            "Enter the first value 4\n",
            "Enter the second value 7\n",
            "The value of x before swapping:  4\n",
            "The value of y before swapping:  7\n",
            "The value of x after swapping  7\n",
            "The value of y after swapping  4\n"
          ],
          "name": "stdout"
        }
      ]
    },
    {
      "cell_type": "markdown",
      "metadata": {
        "id": "W0btO7MX3iE5"
      },
      "source": [
        "8.Performs all the five arithmetic operations."
      ]
    },
    {
      "cell_type": "code",
      "metadata": {
        "id": "XoPNy2RI2g4V",
        "outputId": "56848197-68a4-4b2b-a16a-b3fa4e74c3c4",
        "colab": {
          "base_uri": "https://localhost:8080/",
          "height": 136
        }
      },
      "source": [
        "n1 = int(input(\"Enter first number: \"))\n",
        "n2 = int(input(\"Enter second number: \"))\n",
        "sum = n1 + n2\n",
        "diff = n1 - n2\n",
        "mul = n1 * n2\n",
        "div = n1 / n2\n",
        "mod = n1 % n2\n",
        "print(\"The sum of {0} and {1} is {2} \".format(n1,n2,sum))\n",
        "print(\"The diff of {0} and {1} is {2} \".format(n1,n2,diff))\n",
        "print(\"The mul of {0} and {1} is {2} \".format(n1,n2,mul))\n",
        "print(\"The div of {0} and {1} is {2} \".format(n1,n2,div))\n",
        "print(\"The mod of {0} and {1} is {2} \".format(n1,n2,mod))"
      ],
      "execution_count": 10,
      "outputs": [
        {
          "output_type": "stream",
          "text": [
            "Enter first number: 6\n",
            "Enter second number: 3\n",
            "The sum of 6 and 3 is 9 \n",
            "The diff of 6 and 3 is 3 \n",
            "The mul of 6 and 3 is 18 \n",
            "The div of 6 and 3 is 2.0 \n",
            "The mod of 6 and 3 is 0 \n"
          ],
          "name": "stdout"
        }
      ]
    }
  ]
}