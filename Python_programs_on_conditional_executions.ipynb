{
  "nbformat": 4,
  "nbformat_minor": 0,
  "metadata": {
    "colab": {
      "name": "Python programs on conditional executions.ipynb ",
      "provenance": [],
      "collapsed_sections": [],
      "authorship_tag": "ABX9TyOpP4+qtPRCeiHy+9qK8ft7",
      "include_colab_link": true
    },
    "kernelspec": {
      "name": "python3",
      "display_name": "Python 3"
    }
  },
  "cells": [
    {
      "cell_type": "markdown",
      "metadata": {
        "id": "view-in-github",
        "colab_type": "text"
      },
      "source": [
        "<a href=\"https://colab.research.google.com/github/Manideep-Chembeti/PYTHON-PROGRAMS/blob/master/Python_programs_on_conditional_executions.ipynb\" target=\"_parent\"><img src=\"https://colab.research.google.com/assets/colab-badge.svg\" alt=\"Open In Colab\"/></a>"
      ]
    },
    {
      "cell_type": "code",
      "metadata": {
        "id": "sKI1V4-iwwqd",
        "colab_type": "code",
        "colab": {
          "base_uri": "https://localhost:8080/",
          "height": 68
        },
        "outputId": "83951e70-827c-4661-c174-32fb5d6726c5"
      },
      "source": [
        "# Python program to check wheather the given two values are equal or not.\n",
        "\n",
        "x=input(\"Enter the first value\")\n",
        "y=input(\"Enter the second value\")\n",
        "if x == y:\n",
        "  print(\"Both inputs are equal\")\n",
        "else:\n",
        "  print(\"Your input is not equal.\")"
      ],
      "execution_count": 4,
      "outputs": [
        {
          "output_type": "stream",
          "text": [
            "Enter the first value4\n",
            "Enter the second value4\n",
            "Both inputs are equal\n"
          ],
          "name": "stdout"
        }
      ]
    },
    {
      "cell_type": "code",
      "metadata": {
        "id": "wkjYMhVuy12y",
        "colab_type": "code",
        "colab": {
          "base_uri": "https://localhost:8080/",
          "height": 85
        },
        "outputId": "568c7786-c7a0-4568-a60b-0a6d5e4689e6"
      },
      "source": [
        "# Python program to check wheather the given three values are All are equal or not(\"By using and\")\n",
        "\n",
        "a=input(\"Enter the value of a \")\n",
        "b=input(\"Enter the value of b \")\n",
        "c=input(\"Enter the value of c \")\n",
        "a == b and b == c"
      ],
      "execution_count": 12,
      "outputs": [
        {
          "output_type": "stream",
          "text": [
            "Enter the value of a2\n",
            "Enter the value of b2\n",
            "Enter the value of c2\n"
          ],
          "name": "stdout"
        },
        {
          "output_type": "execute_result",
          "data": {
            "text/plain": [
              "True"
            ]
          },
          "metadata": {
            "tags": []
          },
          "execution_count": 12
        }
      ]
    },
    {
      "cell_type": "code",
      "metadata": {
        "id": "YBtypGh_2qPV",
        "colab_type": "code",
        "colab": {
          "base_uri": "https://localhost:8080/",
          "height": 85
        },
        "outputId": "d7fdbade-f969-4abc-99a1-d8c2e38658d2"
      },
      "source": [
        " # Python program to check wheather the given three values are atleast any of two equal or not(\"By using or\")\n",
        "\n",
        "a=input(\"Enter the value of a \")\n",
        "b=input(\"Enter the value of b \")\n",
        "c=input(\"Enter the value of c \")\n",
        "a == b or b == c or c == a"
      ],
      "execution_count": 14,
      "outputs": [
        {
          "output_type": "stream",
          "text": [
            "Enter the value of a 2\n",
            "Enter the value of b 3\n",
            "Enter the value of c 2\n"
          ],
          "name": "stdout"
        },
        {
          "output_type": "execute_result",
          "data": {
            "text/plain": [
              "True"
            ]
          },
          "metadata": {
            "tags": []
          },
          "execution_count": 14
        }
      ]
    },
    {
      "cell_type": "code",
      "metadata": {
        "id": "lUb1ziKs6LOh",
        "colab_type": "code",
        "colab": {
          "base_uri": "https://localhost:8080/",
          "height": 85
        },
        "outputId": "28a7286c-7203-413e-a061-3734b6497b6b"
      },
      "source": [
        "# Python program to check wheather the sum of two numbers is :\n",
        "# 1. greater than 5\n",
        "# 2. less than 5\n",
        "# 3. equal to 5\n",
        "l=int(input(\"Enter the value of l= \"))\n",
        "m=int(input(\"Enter the value of m= \"))\n",
        "sum = l + m\n",
        "print(\"the sum of l and m is\",sum)\n",
        "if sum > 5:\n",
        "  print(\"The given values sum is greater than 5 \")\n",
        "elif sum < 5:\n",
        "  print(\"The given values sum is lesser than 5 \")\n",
        "else:\n",
        "  print(\"The given values sum is equal to 5\")  "
      ],
      "execution_count": 23,
      "outputs": [
        {
          "output_type": "stream",
          "text": [
            "Enter the value of l= 2\n",
            "Enter the value of m= 3\n",
            "the sum of l and m is 5\n",
            "The given values sum is equal to 5\n"
          ],
          "name": "stdout"
        }
      ]
    },
    {
      "cell_type": "code",
      "metadata": {
        "id": "OS1yVhNd7X2B",
        "colab_type": "code",
        "colab": {
          "base_uri": "https://localhost:8080/",
          "height": 51
        },
        "outputId": "d875d33c-4d49-43f7-c301-ebe310fd2de7"
      },
      "source": [
        "# Python program to check Suppose passing marks of a subject is 35. Take input of marks from user and check whether it is greater than passing marks or not.\n",
        "\n",
        "pasing_marks = 35\n",
        "marks = int(input(\"Enter the marks \"))\n",
        "print (\"Marks is greater than passing marks:\",marks>pasing_marks)"
      ],
      "execution_count": 29,
      "outputs": [
        {
          "output_type": "stream",
          "text": [
            "Enter the marks 38\n",
            "Marks is greater than passing marks: True\n"
          ],
          "name": "stdout"
        }
      ]
    },
    {
      "cell_type": "code",
      "metadata": {
        "id": "QQRO2ko7_LnZ",
        "colab_type": "code",
        "colab": {
          "base_uri": "https://localhost:8080/",
          "height": 34
        },
        "outputId": "cb32f641-40f0-4e52-df59-04aa98903f6e"
      },
      "source": [
        "# Python program to find the Max of three numbers.\n",
        "\n",
        "def max_of_two( x, y ):\n",
        "    if x > y:\n",
        "        return x\n",
        "    return y\n",
        "def max_of_three( x, y, z ):\n",
        "    return max_of_two( x, max_of_two( y, z ) )\n",
        "print(max_of_three(1, 2, -5))"
      ],
      "execution_count": 31,
      "outputs": [
        {
          "output_type": "stream",
          "text": [
            "2\n"
          ],
          "name": "stdout"
        }
      ]
    },
    {
      "cell_type": "code",
      "metadata": {
        "id": "MFpQmfBgAS5I",
        "colab_type": "code",
        "colab": {}
      },
      "source": [
        ""
      ],
      "execution_count": null,
      "outputs": []
    }
  ]
}