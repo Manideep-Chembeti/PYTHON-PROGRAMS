{
  "nbformat": 4,
  "nbformat_minor": 0,
  "metadata": {
    "colab": {
      "name": "Python programs on files.ipynb",
      "provenance": [],
      "collapsed_sections": [],
      "authorship_tag": "ABX9TyMDN4O4Te23OvuM1qZc6JFT",
      "include_colab_link": true
    },
    "kernelspec": {
      "name": "python3",
      "display_name": "Python 3"
    }
  },
  "cells": [
    {
      "cell_type": "markdown",
      "metadata": {
        "id": "view-in-github",
        "colab_type": "text"
      },
      "source": [
        "<a href=\"https://colab.research.google.com/github/Manideep-Chembeti/PYTHON-PROGRAMS/blob/master/Python_programs_on_files.ipynb\" target=\"_parent\"><img src=\"https://colab.research.google.com/assets/colab-badge.svg\" alt=\"Open In Colab\"/></a>"
      ]
    },
    {
      "cell_type": "code",
      "metadata": {
        "id": "IyiW4sl6lFR6",
        "colab_type": "code",
        "colab": {}
      },
      "source": [
        "f=open(\"file1.txt\",\"w\")\n",
        "f.write(\"\"\"Hi\n",
        "Hello\n",
        "How are you?\n",
        "You look good.Have a good day.\"\"\")\n",
        "f.close()"
      ],
      "execution_count": 15,
      "outputs": []
    },
    {
      "cell_type": "code",
      "metadata": {
        "id": "sftdGR-Blt_w",
        "colab_type": "code",
        "colab": {
          "base_uri": "https://localhost:8080/",
          "height": 102
        },
        "outputId": "1cd9522d-bea1-4df1-a07b-2bb264d2ba67"
      },
      "source": [
        "# Python program to read an entire text file.\n",
        "\n",
        "f = open(\"file1.txt\",\"r\")\n",
        "content = f.read()\n",
        "print(\"Content present in the file assignment.txt is\\n\",content)"
      ],
      "execution_count": 17,
      "outputs": [
        {
          "output_type": "stream",
          "text": [
            "Content present in the file assignment.txt is\n",
            " Hi\n",
            "Hello\n",
            "How are you?\n",
            "You look good.Have a good day.\n"
          ],
          "name": "stdout"
        }
      ]
    },
    {
      "cell_type": "code",
      "metadata": {
        "id": "rqEvp2hxv3YR",
        "colab_type": "code",
        "colab": {
          "base_uri": "https://localhost:8080/",
          "height": 170
        },
        "outputId": "5b0eedc2-f7b8-4b0d-d5c7-6ed3dbaee00c"
      },
      "source": [
        "# Python program to read first n lines of a file.\n",
        "\n",
        "f=open(\"file1.txt\",\"r\")\n",
        "n=int(input(\"Enter the number of lines you want to read: \"))\n",
        "print(\"The content present in the first\",n,\"lines present in the file is\\n:\")\n",
        "for i in range(n):\n",
        "    line=f.readline()\n",
        "    print(line)"
      ],
      "execution_count": 19,
      "outputs": [
        {
          "output_type": "stream",
          "text": [
            "Enter the number of lines you want to read: 3\n",
            "The content present in the first 3 lines present in the file is\n",
            ":\n",
            "Hi\n",
            "\n",
            "Hello\n",
            "\n",
            "How are you?\n",
            "\n"
          ],
          "name": "stdout"
        }
      ]
    },
    {
      "cell_type": "code",
      "metadata": {
        "id": "RFdUmMjMyDcd",
        "colab_type": "code",
        "colab": {
          "base_uri": "https://localhost:8080/",
          "height": 51
        },
        "outputId": "0f342b6f-e98f-491b-d3ab-d4355d9f1005"
      },
      "source": [
        "# Python program to append text to a file and display the text.\n",
        "\n",
        "def file_read(fname):\n",
        "        from itertools import islice\n",
        "        with open(fname, \"w\") as myfile:\n",
        "                myfile.write(\"Manideep\\n\")\n",
        "                myfile.write(\"S/O Maheepal\")\n",
        "        txt = open(fname)\n",
        "        print(txt.read())\n",
        "file_read('abc.txt')"
      ],
      "execution_count": null,
      "outputs": [
        {
          "output_type": "stream",
          "text": [
            "Manideep\n",
            "S/O Maheepal\n"
          ],
          "name": "stdout"
        }
      ]
    },
    {
      "cell_type": "code",
      "metadata": {
        "id": "0ZD5uz67zlc3",
        "colab_type": "code",
        "colab": {
          "base_uri": "https://localhost:8080/",
          "height": 68
        },
        "outputId": "32f42f16-5b8b-416e-f444-3316ee1bb25a"
      },
      "source": [
        "# Python program to read last n lines of a file.\n",
        "\n",
        "f=open(\"file1.txt\",\"r\")\n",
        "n=int(input(\"Enter the value of n to print the last lines: \"))\n",
        "last=f.readlines() [-n:]\n",
        "for line in last:\n",
        "    print(line, end ='')"
      ],
      "execution_count": 20,
      "outputs": [
        {
          "output_type": "stream",
          "text": [
            "Enter the value of n to print the last lines: 2\n",
            "How are you?\n",
            "You look good.Have a good day."
          ],
          "name": "stdout"
        }
      ]
    },
    {
      "cell_type": "code",
      "metadata": {
        "id": "SDibB6Ej0MkT",
        "colab_type": "code",
        "colab": {
          "base_uri": "https://localhost:8080/",
          "height": 34
        },
        "outputId": "8c82bbf3-76f0-4678-ab6b-d697d6215f35"
      },
      "source": [
        "# Python program to read a file line by line store it into a variable.\n",
        "\n",
        "def file_read(fname):\n",
        "        with open (fname, \"r\") as myfile:\n",
        "                data=myfile.readlines()\n",
        "                print(data)\n",
        "file_read('file1.txt')"
      ],
      "execution_count": 21,
      "outputs": [
        {
          "output_type": "stream",
          "text": [
            "['Hi\\n', 'Hello\\n', 'How are you?\\n', 'You look good.Have a good day.']\n"
          ],
          "name": "stdout"
        }
      ]
    },
    {
      "cell_type": "code",
      "metadata": {
        "id": "KOZUQkzS1i5w",
        "colab_type": "code",
        "colab": {
          "base_uri": "https://localhost:8080/",
          "height": 34
        },
        "outputId": "b76d15b7-cc97-4ca9-8c7b-e43ea14dc8bd"
      },
      "source": [
        "# Python program to read a file line by line and store it into a list.\n",
        "\n",
        "def file_read(fname):\n",
        "        with open(fname) as f:     \n",
        "                content_list = f.readlines()\n",
        "                print(content_list)\n",
        "\n",
        "file_read('file1.txt')"
      ],
      "execution_count": 24,
      "outputs": [
        {
          "output_type": "stream",
          "text": [
            "['Hi\\n', 'Hello\\n', 'How are you?\\n', 'You look good.Have a good day.']\n"
          ],
          "name": "stdout"
        }
      ]
    },
    {
      "cell_type": "code",
      "metadata": {
        "id": "YoFaE3si276N",
        "colab_type": "code",
        "colab": {
          "base_uri": "https://localhost:8080/",
          "height": 34
        },
        "outputId": "6c015b14-903e-4e36-c244-68c22073ea6a"
      },
      "source": [
        "# Python program to count the number of lines in a text file.\n",
        "\n",
        "def file_lengthy(fname):\n",
        "        with open(fname) as f:\n",
        "                for i, l in enumerate(f):\n",
        "                        pass\n",
        "        return i + 1\n",
        "print(\"Number of lines in the file: \",file_lengthy(\"file1.txt\"))"
      ],
      "execution_count": 25,
      "outputs": [
        {
          "output_type": "stream",
          "text": [
            "Number of lines in the file:  4\n"
          ],
          "name": "stdout"
        }
      ]
    },
    {
      "cell_type": "code",
      "metadata": {
        "id": "Ecu6tq9S3LlS",
        "colab_type": "code",
        "colab": {
          "base_uri": "https://localhost:8080/",
          "height": 34
        },
        "outputId": "99ff6b4e-5337-4562-ca4a-5c95bd91e237"
      },
      "source": [
        "# Python program to get the file size of a plain file.\n",
        "\n",
        "def file_size(fname):\n",
        "        import os\n",
        "        statinfo = os.stat(fname)\n",
        "        return statinfo.st_size\n",
        "\n",
        "print(\"File size in bytes of a plain file: \",file_size(\"file1.txt\"))"
      ],
      "execution_count": 26,
      "outputs": [
        {
          "output_type": "stream",
          "text": [
            "File size in bytes of a plain file:  52\n"
          ],
          "name": "stdout"
        }
      ]
    },
    {
      "cell_type": "code",
      "metadata": {
        "id": "Kv4SQZXk3aD9",
        "colab_type": "code",
        "colab": {
          "base_uri": "https://localhost:8080/",
          "height": 35
        },
        "outputId": "90ef84d6-54f0-47ed-fa3b-9b9dbe4b8249"
      },
      "source": [
        "# Python program to copy the contents of a file to another file.\n",
        "\n",
        "from shutil import copyfile\n",
        "copyfile('file1.txt', 'abc.txt')\n"
      ],
      "execution_count": 33,
      "outputs": [
        {
          "output_type": "execute_result",
          "data": {
            "application/vnd.google.colaboratory.intrinsic": {
              "type": "string"
            },
            "text/plain": [
              "'abc.txt'"
            ]
          },
          "metadata": {
            "tags": []
          },
          "execution_count": 33
        }
      ]
    },
    {
      "cell_type": "code",
      "metadata": {
        "id": "NK0ts4NwpCd9",
        "colab_type": "code",
        "colab": {}
      },
      "source": [
        ""
      ],
      "execution_count": null,
      "outputs": []
    }
  ]
}