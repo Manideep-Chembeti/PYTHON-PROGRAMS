{
  "nbformat": 4,
  "nbformat_minor": 0,
  "metadata": {
    "colab": {
      "name": "Python assignment 4.ipynb",
      "provenance": [],
      "authorship_tag": "ABX9TyNFZNMl9NhueqoD2VBfAA9L",
      "include_colab_link": true
    },
    "kernelspec": {
      "name": "python3",
      "display_name": "Python 3"
    }
  },
  "cells": [
    {
      "cell_type": "markdown",
      "metadata": {
        "id": "view-in-github",
        "colab_type": "text"
      },
      "source": [
        "<a href=\"https://colab.research.google.com/github/Manideep-Chembeti/PYTHON-PROGRAMS/blob/master/Python_assignment_4.ipynb\" target=\"_parent\"><img src=\"https://colab.research.google.com/assets/colab-badge.svg\" alt=\"Open In Colab\"/></a>"
      ]
    },
    {
      "cell_type": "code",
      "metadata": {
        "id": "P2Yy7IEGCoRk",
        "colab_type": "code",
        "colab": {
          "base_uri": "https://localhost:8080/",
          "height": 34
        },
        "outputId": "02112eec-d8f2-4323-bcb8-f0378a1752a9"
      },
      "source": [
        "# Python program to find the Max of three numbers.\n",
        "\n",
        "def max_of_two( x, y ):\n",
        "    if x > y:\n",
        "        return x\n",
        "    return y\n",
        "def max_of_three( x, y, z ):\n",
        "    return max_of_two( x, max_of_two( y, z ) )\n",
        "print(max_of_three(1, 2, -5))"
      ],
      "execution_count": null,
      "outputs": [
        {
          "output_type": "stream",
          "text": [
            "2\n"
          ],
          "name": "stdout"
        }
      ]
    },
    {
      "cell_type": "code",
      "metadata": {
        "id": "sPtazIe1DOiX",
        "colab_type": "code",
        "colab": {
          "base_uri": "https://localhost:8080/",
          "height": 51
        },
        "outputId": "376e472b-660f-4ce2-9006-8fcd1f458b55"
      },
      "source": [
        "# Python program to reverse a string.\n",
        "\n",
        "s=str(input(\"Enter the string\"))\n",
        "print(s[::-1])"
      ],
      "execution_count": 2,
      "outputs": [
        {
          "output_type": "stream",
          "text": [
            "Enter the stringmanideep\n",
            "peedinam\n"
          ],
          "name": "stdout"
        }
      ]
    },
    {
      "cell_type": "code",
      "metadata": {
        "id": "OWcD2x0DFBdA",
        "colab_type": "code",
        "colab": {
          "base_uri": "https://localhost:8080/",
          "height": 68
        },
        "outputId": "942d0c48-104e-43a9-bf22-37b5e7d80d35"
      },
      "source": [
        "# Python program to check if a number is prime or not\n",
        "\n",
        "num = int(input(\"Enter a number: \"))\n",
        "if num > 1:\n",
        "   for i in range(2,num):\n",
        "       if (num % i) == 0:\n",
        "           print(num,\"is not a prime number\")\n",
        "           print(i,\"times\",num//i,\"is\",num)\n",
        "           break\n",
        "   else:\n",
        "       print(num,\"is a prime number\")\n",
        "else:\n",
        "   print(num,\"is not a prime number\")"
      ],
      "execution_count": 8,
      "outputs": [
        {
          "output_type": "stream",
          "text": [
            "Enter a number: 6\n",
            "6 is not a prime number\n",
            "2 times 3 is 6\n"
          ],
          "name": "stdout"
        }
      ]
    },
    {
      "cell_type": "code",
      "metadata": {
        "id": "HmiiTqfCGfi5",
        "colab_type": "code",
        "colab": {
          "base_uri": "https://localhost:8080/",
          "height": 51
        },
        "outputId": "7ada94c2-13d2-45b1-cf3a-e594701c7e86"
      },
      "source": [
        "# Python program to find sum of squares of first n natural numbers\n",
        "\n",
        "n=int(input(\"Enter the n value: \"))\n",
        "def sqsum(n) :\n",
        "   sm = 0\n",
        "   for i in range(1, n+1) :\n",
        "      sm = sm + pow(i,2)\n",
        "   return sm\n",
        "print(sqsum(n))"
      ],
      "execution_count": 20,
      "outputs": [
        {
          "output_type": "stream",
          "text": [
            "Enter the n value: 6\n",
            "91\n"
          ],
          "name": "stdout"
        }
      ]
    },
    {
      "cell_type": "code",
      "metadata": {
        "id": "qdH678wtH2CI",
        "colab_type": "code",
        "colab": {}
      },
      "source": [
        ""
      ],
      "execution_count": null,
      "outputs": []
    }
  ]
}