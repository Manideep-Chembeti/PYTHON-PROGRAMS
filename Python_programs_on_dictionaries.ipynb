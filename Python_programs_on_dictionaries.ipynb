{
  "nbformat": 4,
  "nbformat_minor": 0,
  "metadata": {
    "colab": {
      "name": "Python programs on dictionaries.ipynb",
      "provenance": [],
      "collapsed_sections": [],
      "authorship_tag": "ABX9TyP5E9s7qYlRb+jydX8DwEK/",
      "include_colab_link": true
    },
    "kernelspec": {
      "name": "python3",
      "display_name": "Python 3"
    }
  },
  "cells": [
    {
      "cell_type": "markdown",
      "metadata": {
        "id": "view-in-github",
        "colab_type": "text"
      },
      "source": [
        "<a href=\"https://colab.research.google.com/github/Manideep-Chembeti/PYTHON-PROGRAMS/blob/master/Python_programs_on_dictionaries.ipynb\" target=\"_parent\"><img src=\"https://colab.research.google.com/assets/colab-badge.svg\" alt=\"Open In Colab\"/></a>"
      ]
    },
    {
      "cell_type": "markdown",
      "metadata": {
        "id": "-O9MYho1tz2F",
        "colab_type": "text"
      },
      "source": [
        "Q... What is dictionary in python? Explain with an example.\n",
        "\n",
        "A dictionary is an associative array (also known as hashes). Any key of the dictionary is associated (or mapped) to a value. The values of a dictionary can be any Python data type. So dictionaries are unordered key-value-pairs.Dictionaries belong to the built-in mapping type."
      ]
    },
    {
      "cell_type": "code",
      "metadata": {
        "id": "BYngjIvyuW9u",
        "colab_type": "code",
        "colab": {
          "base_uri": "https://localhost:8080/",
          "height": 51
        },
        "outputId": "ff44ea2f-0f66-4474-dd8b-65cd0af92eb1"
      },
      "source": [
        "# Example for dictionary in python.\n",
        "\n",
        "mydict = {'StuName': 'Ajeet', 'StuAge': 30, 'StuCity': 'Agra'}\n",
        "print(\"Student Age is:\", mydict['StuAge'])\n",
        "print(\"Student City is:\", mydict['StuCity'])"
      ],
      "execution_count": 13,
      "outputs": [
        {
          "output_type": "stream",
          "text": [
            "Student Age is: 30\n",
            "Student City is: Agra\n"
          ],
          "name": "stdout"
        }
      ]
    },
    {
      "cell_type": "code",
      "metadata": {
        "id": "447qIf8CpmsD",
        "colab_type": "code",
        "colab": {
          "base_uri": "https://localhost:8080/",
          "height": 34
        },
        "outputId": "0fcb842c-35d4-4704-d8f5-3a3a74436957"
      },
      "source": [
        "# Python program to sum all the items in a list.\n",
        "\n",
        "def sum_list(items):\n",
        "    sum_numbers = 0\n",
        "    for x in items:\n",
        "        sum_numbers += x\n",
        "    return sum_numbers\n",
        "print(sum_list([1,6,-2]))"
      ],
      "execution_count": 2,
      "outputs": [
        {
          "output_type": "stream",
          "text": [
            "5\n"
          ],
          "name": "stdout"
        }
      ]
    },
    {
      "cell_type": "code",
      "metadata": {
        "id": "zx4xCmZap6Bg",
        "colab_type": "code",
        "colab": {
          "base_uri": "https://localhost:8080/",
          "height": 51
        },
        "outputId": "8a562ef2-8988-40e4-a4cc-21f425ed2f72"
      },
      "source": [
        "# Python program to create a list of empty dictionaries.\n",
        "\n",
        "n = int(input(\"Enter the number of dictionaries need to be created: \"))\n",
        "l = [{} for _ in range(n)]\n",
        "print(l)"
      ],
      "execution_count": 4,
      "outputs": [
        {
          "output_type": "stream",
          "text": [
            "Enter the number of dictionaries need to be created: 10\n",
            "[{}, {}, {}, {}, {}, {}, {}, {}, {}, {}]\n"
          ],
          "name": "stdout"
        }
      ]
    },
    {
      "cell_type": "code",
      "metadata": {
        "id": "sPI5r6gdqSqp",
        "colab_type": "code",
        "colab": {
          "base_uri": "https://localhost:8080/",
          "height": 34
        },
        "outputId": "9c263e3c-5353-4b06-8520-439a16130542"
      },
      "source": [
        "# Python program to access dictionary keys element by index.\n",
        "\n",
        "num = {'Python': 80, 'math': 90, 'chemistry': 86}\n",
        "print(list(num)[0])"
      ],
      "execution_count": 6,
      "outputs": [
        {
          "output_type": "stream",
          "text": [
            "Python\n"
          ],
          "name": "stdout"
        }
      ]
    },
    {
      "cell_type": "code",
      "metadata": {
        "id": "RgSIZzvEq4OE",
        "colab_type": "code",
        "colab": {
          "base_uri": "https://localhost:8080/",
          "height": 34
        },
        "outputId": "e0f19296-4f52-4773-fcd5-fc22715ee571"
      },
      "source": [
        "# Python program to sum all the items in a dictionary.\n",
        "\n",
        "my_dict = {'data1':10,'data2':-54,'data3':258}\n",
        "print(sum(my_dict.values()))"
      ],
      "execution_count": 8,
      "outputs": [
        {
          "output_type": "stream",
          "text": [
            "214\n"
          ],
          "name": "stdout"
        }
      ]
    },
    {
      "cell_type": "code",
      "metadata": {
        "id": "7NowOR8rreo5",
        "colab_type": "code",
        "colab": {
          "base_uri": "https://localhost:8080/",
          "height": 34
        },
        "outputId": "8bebcc78-b3cf-45cb-b5aa-dd7075d13088"
      },
      "source": [
        "# Python program concatenate following dictionaries to create a new one.\n",
        "\n",
        "dic1={1:10, 2:20}\n",
        "dic2={3:30, 4:40}\n",
        "dic3={5:50,6:60}\n",
        "dic4={}\n",
        "for d in (dic1, dic2): dic4.update(d)\n",
        "print(dic4)"
      ],
      "execution_count": 10,
      "outputs": [
        {
          "output_type": "stream",
          "text": [
            "{1: 10, 2: 20, 3: 30, 4: 40}\n"
          ],
          "name": "stdout"
        }
      ]
    }
  ]
}